{
 "cells": [
  {
   "cell_type": "code",
   "execution_count": 1,
   "metadata": {},
   "outputs": [],
   "source": [
    "# Load MNIST\n",
    "\n",
    "from tensorflow.keras.datasets import mnist"
   ]
  },
  {
   "cell_type": "code",
   "execution_count": 2,
   "metadata": {},
   "outputs": [
    {
     "name": "stdout",
     "output_type": "stream",
     "text": [
      "Downloading data from https://storage.googleapis.com/tensorflow/tf-keras-datasets/mnist.npz\n",
      "11493376/11490434 [==============================] - 1s 0us/step\n"
     ]
    },
    {
     "data": {
      "text/plain": [
       "((60000, 28, 28), (60000,), (10000, 28, 28), (10000,))"
      ]
     },
     "execution_count": 2,
     "metadata": {},
     "output_type": "execute_result"
    }
   ],
   "source": [
    "(X_train, y_train), (X_test,y_test) = mnist.load_data()\n",
    "X_train.shape, y_train.shape, X_test.shape, y_test.shape"
   ]
  },
  {
   "cell_type": "code",
   "execution_count": 4,
   "metadata": {},
   "outputs": [
    {
     "data": {
      "text/plain": [
       "[]"
      ]
     },
     "execution_count": 4,
     "metadata": {},
     "output_type": "execute_result"
    },
    {
     "data": {
      "image/png": "[encoded data removed]",
      "text/plain": [
       "<Figure size 432x288 with 1 Axes>"
      ]
     },
     "metadata": {
      "needs_background": "light"
     },
     "output_type": "display_data"
    }
   ],
   "source": [
    "# Lets visualize the first input\n",
    "\n",
    "import matplotlib.pyplot as plt\n",
    "plt.imshow(X_train[0])\n",
    "plt.plot()"
   ]
  },
  {
   "cell_type": "code",
   "execution_count": 7,
   "metadata": {},
   "outputs": [],
   "source": [
    "# create a Adam optimizer\n",
    "\n",
    "from tensorflow.keras.optimizers import Adam\n",
    "opt_1 = Adam(learning_rate = 0.001)"
   ]
  },
  {
   "cell_type": "code",
   "execution_count": 12,
   "metadata": {},
   "outputs": [
    {
     "name": "stdout",
     "output_type": "stream",
     "text": [
      "Epoch 1/10\n",
      "1875/1875 [==============================] - 2s 811us/step - loss: 0.3574 - accuracy: 0.9008 - val_loss: 0.2886 - val_accuracy: 0.9209\n",
      "Epoch 2/10\n",
      "1875/1875 [==============================] - 1s 760us/step - loss: 0.2891 - accuracy: 0.9192 - val_loss: 0.2771 - val_accuracy: 0.9234\n",
      "Epoch 3/10\n",
      "1875/1875 [==============================] - 1s 760us/step - loss: 0.2761 - accuracy: 0.9225 - val_loss: 0.2687 - val_accuracy: 0.9242\n",
      "Epoch 4/10\n",
      "1875/1875 [==============================] - 1s 765us/step - loss: 0.2689 - accuracy: 0.9247 - val_loss: 0.2663 - val_accuracy: 0.9256\n",
      "Epoch 5/10\n",
      "1875/1875 [==============================] - 1s 770us/step - loss: 0.2637 - accuracy: 0.9267 - val_loss: 0.2668 - val_accuracy: 0.9277\n",
      "Epoch 6/10\n",
      "1875/1875 [==============================] - 1s 765us/step - loss: 0.2595 - accuracy: 0.9276 - val_loss: 0.2677 - val_accuracy: 0.9265\n",
      "Epoch 7/10\n",
      "1875/1875 [==============================] - 1s 758us/step - loss: 0.2561 - accuracy: 0.9294 - val_loss: 0.2637 - val_accuracy: 0.9279\n",
      "Epoch 8/10\n",
      "1875/1875 [==============================] - 1s 765us/step - loss: 0.2542 - accuracy: 0.9304 - val_loss: 0.2638 - val_accuracy: 0.9278\n",
      "Epoch 9/10\n",
      "1875/1875 [==============================] - 1s 796us/step - loss: 0.2519 - accuracy: 0.9307 - val_loss: 0.2651 - val_accuracy: 0.9276\n",
      "Epoch 10/10\n",
      "1875/1875 [==============================] - 1s 769us/step - loss: 0.2503 - accuracy: 0.9310 - val_loss: 0.2664 - val_accuracy: 0.9275\n"
     ]
    },
    {
     "data": {
      "text/plain": [
       "<tensorflow.python.keras.callbacks.History at 0x1c514ccc1c8>"
      ]
     },
     "execution_count": 12,
     "metadata": {},
     "output_type": "execute_result"
    }
   ],
   "source": [
    "# Base Model (Model 1)\n",
    "\n",
    "from tensorflow.keras import layers\n",
    "from tensorflow.keras.models import Sequential\n",
    "\n",
    "model_1 = Sequential([layers.Input((28,28)),\n",
    "                     layers.Lambda(lambda x:x / 255),\n",
    "                      layers.Flatten(),\n",
    "                      layers.Dense(10, activation='softmax')\n",
    "                     ])\n",
    "\n",
    "model_1.compile(optimizer = opt_1, loss = 'sparse_categorical_crossentropy', metrics=['accuracy'])\n",
    "\n",
    "model_1.fit(X_train, y_train,validation_data = (X_test, y_test)\n",
    "            ,epochs=10)\n",
    "                    "
   ]
  },
  {
   "cell_type": "code",
   "execution_count": 13,
   "metadata": {},
   "outputs": [
    {
     "name": "stdout",
     "output_type": "stream",
     "text": [
      "Epoch 1/10\n",
      "1875/1875 [==============================] - 2s 871us/step - loss: 0.3536 - accuracy: 0.8998 - val_loss: 0.2110 - val_accuracy: 0.9389\n",
      "Epoch 2/10\n",
      "1875/1875 [==============================] - 2s 832us/step - loss: 0.1882 - accuracy: 0.9461 - val_loss: 0.1609 - val_accuracy: 0.9535\n",
      "Epoch 3/10\n",
      "1875/1875 [==============================] - 2s 836us/step - loss: 0.1470 - accuracy: 0.9577 - val_loss: 0.1382 - val_accuracy: 0.9597\n",
      "Epoch 4/10\n",
      "1875/1875 [==============================] - 2s 836us/step - loss: 0.1234 - accuracy: 0.9638 - val_loss: 0.1212 - val_accuracy: 0.9639\n",
      "Epoch 5/10\n",
      "1875/1875 [==============================] - 2s 837us/step - loss: 0.1073 - accuracy: 0.9682 - val_loss: 0.1167 - val_accuracy: 0.9639\n",
      "Epoch 6/10\n",
      "1875/1875 [==============================] - 2s 839us/step - loss: 0.0952 - accuracy: 0.9716 - val_loss: 0.1149 - val_accuracy: 0.9654\n",
      "Epoch 7/10\n",
      "1875/1875 [==============================] - 2s 834us/step - loss: 0.0857 - accuracy: 0.9744 - val_loss: 0.1061 - val_accuracy: 0.9673\n",
      "Epoch 8/10\n",
      "1875/1875 [==============================] - 2s 835us/step - loss: 0.0785 - accuracy: 0.9758 - val_loss: 0.1065 - val_accuracy: 0.9675\n",
      "Epoch 9/10\n",
      "1875/1875 [==============================] - 2s 833us/step - loss: 0.0729 - accuracy: 0.9779 - val_loss: 0.1000 - val_accuracy: 0.9692\n",
      "Epoch 10/10\n",
      "1875/1875 [==============================] - 2s 837us/step - loss: 0.0677 - accuracy: 0.9797 - val_loss: 0.1014 - val_accuracy: 0.9693\n"
     ]
    },
    {
     "data": {
      "text/plain": [
       "<tensorflow.python.keras.callbacks.History at 0x1c513cc0588>"
      ]
     },
     "execution_count": 13,
     "metadata": {},
     "output_type": "execute_result"
    }
   ],
   "source": [
    "# Adding number of parameters (Model 2)\n",
    "\n",
    "opt_2 = Adam(learning_rate = 0.001)\n",
    "\n",
    "model_2 = Sequential([layers.Input((28,28)),\n",
    "                     layers.Lambda(lambda x:x / 255),\n",
    "                      layers.Flatten(),\n",
    "                      layers.Dense(32,activation = 'relu'),\n",
    "                      layers.Dense(10,activation = 'softmax')\n",
    "                     ])\n",
    "\n",
    "model_2.compile(optimizer=opt_2, loss = 'sparse_categorical_crossentropy', metrics = ['accuracy'])\n",
    "\n",
    "model_2.fit(X_train, y_train, validation_data = (X_test, y_test), epochs = 10)"
   ]
  },
  {
   "cell_type": "code",
   "execution_count": 15,
   "metadata": {},
   "outputs": [
    {
     "name": "stdout",
     "output_type": "stream",
     "text": [
      "Epoch 1/10\n",
      "1875/1875 [==============================] - 2s 1ms/step - loss: 1.0848 - accuracy: 0.6725 - val_loss: 1.2984 - val_accuracy: 0.5547\n",
      "Epoch 2/10\n",
      "1875/1875 [==============================] - 2s 945us/step - loss: 1.4080 - accuracy: 0.5230 - val_loss: 1.3304 - val_accuracy: 0.5405\n",
      "Epoch 3/10\n",
      "1875/1875 [==============================] - 2s 943us/step - loss: 1.3431 - accuracy: 0.5399 - val_loss: 1.4583 - val_accuracy: 0.5351\n",
      "Epoch 4/10\n",
      "1875/1875 [==============================] - 2s 960us/step - loss: 1.4029 - accuracy: 0.5175 - val_loss: 1.4436 - val_accuracy: 0.5193\n",
      "Epoch 5/10\n",
      "1875/1875 [==============================] - 2s 978us/step - loss: 1.4430 - accuracy: 0.4985 - val_loss: 1.5694 - val_accuracy: 0.4413\n",
      "Epoch 6/10\n",
      "1875/1875 [==============================] - 2s 983us/step - loss: 1.4180 - accuracy: 0.5096 - val_loss: 1.5709 - val_accuracy: 0.4968\n",
      "Epoch 7/10\n",
      "1875/1875 [==============================] - 2s 969us/step - loss: 1.3699 - accuracy: 0.5165 - val_loss: 1.6191 - val_accuracy: 0.5354\n",
      "Epoch 8/10\n",
      "1875/1875 [==============================] - 2s 960us/step - loss: 1.4210 - accuracy: 0.5097 - val_loss: 1.4824 - val_accuracy: 0.5016\n",
      "Epoch 9/10\n",
      "1875/1875 [==============================] - 2s 957us/step - loss: 1.3659 - accuracy: 0.5132 - val_loss: 1.6882 - val_accuracy: 0.5132\n",
      "Epoch 10/10\n",
      "1875/1875 [==============================] - 2s 961us/step - loss: 1.3510 - accuracy: 0.5321 - val_loss: 1.7219 - val_accuracy: 0.4948\n"
     ]
    },
    {
     "data": {
      "text/plain": [
       "<tensorflow.python.keras.callbacks.History at 0x1c515f01fc8>"
      ]
     },
     "execution_count": 15,
     "metadata": {},
     "output_type": "execute_result"
    }
   ],
   "source": [
    "# Increasing the Learning rate (Model 3)\n",
    "\n",
    "opt_3 = Adam(learning_rate = 0.1)\n",
    "\n",
    "model_3 = Sequential([layers.Input((28,28)),\n",
    "                     layers.Lambda(lambda x:x / 255),\n",
    "                      layers.Flatten(),\n",
    "                      layers.Dense(32,activation = 'relu'),\n",
    "                      layers.Dense(10,activation = 'softmax')\n",
    "                     ])\n",
    "\n",
    "model_3.compile(optimizer=opt_3, loss = 'sparse_categorical_crossentropy', metrics = ['accuracy'])\n",
    "\n",
    "model_3.fit(X_train, y_train, validation_data = (X_test, y_test), epochs = 10)"
   ]
  },
  {
   "cell_type": "code",
   "execution_count": 16,
   "metadata": {},
   "outputs": [
    {
     "name": "stdout",
     "output_type": "stream",
     "text": [
      "Epoch 1/10\n",
      "1875/1875 [==============================] - 2s 1ms/step - loss: 0.2249 - accuracy: 0.9319 - val_loss: 0.1401 - val_accuracy: 0.9544\n",
      "Epoch 2/10\n",
      "1875/1875 [==============================] - 2s 1ms/step - loss: 0.0965 - accuracy: 0.9705 - val_loss: 0.0992 - val_accuracy: 0.9699\n",
      "Epoch 3/10\n",
      "1875/1875 [==============================] - 2s 1ms/step - loss: 0.0721 - accuracy: 0.9773 - val_loss: 0.1029 - val_accuracy: 0.9700\n",
      "Epoch 4/10\n",
      "1875/1875 [==============================] - 2s 1ms/step - loss: 0.0554 - accuracy: 0.9823 - val_loss: 0.0691 - val_accuracy: 0.9786\n",
      "Epoch 5/10\n",
      "1875/1875 [==============================] - 2s 1ms/step - loss: 0.0446 - accuracy: 0.9857 - val_loss: 0.0850 - val_accuracy: 0.9781\n",
      "Epoch 6/10\n",
      "1875/1875 [==============================] - 2s 1ms/step - loss: 0.0389 - accuracy: 0.9880 - val_loss: 0.0764 - val_accuracy: 0.9777\n",
      "Epoch 7/10\n",
      "1875/1875 [==============================] - 2s 1ms/step - loss: 0.0314 - accuracy: 0.9900 - val_loss: 0.0803 - val_accuracy: 0.9786\n",
      "Epoch 8/10\n",
      "1875/1875 [==============================] - 2s 1ms/step - loss: 0.0294 - accuracy: 0.9905 - val_loss: 0.0969 - val_accuracy: 0.9744\n",
      "Epoch 9/10\n",
      "1875/1875 [==============================] - 3s 1ms/step - loss: 0.0264 - accuracy: 0.9915 - val_loss: 0.0850 - val_accuracy: 0.9799\n",
      "Epoch 10/10\n",
      "1875/1875 [==============================] - 3s 1ms/step - loss: 0.0230 - accuracy: 0.9927 - val_loss: 0.1105 - val_accuracy: 0.9750\n"
     ]
    },
    {
     "data": {
      "text/plain": [
       "<tensorflow.python.keras.callbacks.History at 0x1c51700ac08>"
      ]
     },
     "execution_count": 16,
     "metadata": {},
     "output_type": "execute_result"
    }
   ],
   "source": [
    "# Increasing the number of parameters (Model 4)\n",
    "\n",
    "\n",
    "opt_4 = Adam(learning_rate = 0.001)\n",
    "\n",
    "model_4 = Sequential([layers.Input((28,28)),\n",
    "                     layers.Lambda(lambda x:x / 255),\n",
    "                      layers.Flatten(),\n",
    "                      layers.Dense(128, activation = 'relu'),\n",
    "                      layers.Dense(128, activation = 'relu'),\n",
    "                      layers.Dense(128,activation = 'relu'),\n",
    "                      layers.Dense(10,activation = 'softmax')\n",
    "                     ])\n",
    "\n",
    "model_4.compile(optimizer=opt_4, loss = 'sparse_categorical_crossentropy', metrics = ['accuracy'])\n",
    "\n",
    "model_4.fit(X_train, y_train, validation_data = (X_test, y_test), epochs = 10)"
   ]
  },
  {
   "cell_type": "code",
   "execution_count": 19,
   "metadata": {},
   "outputs": [
    {
     "name": "stdout",
     "output_type": "stream",
     "text": [
      "Epoch 1/10\n",
      "1875/1875 [==============================] - 3s 2ms/step - loss: 0.5085 - accuracy: 0.9227 - val_loss: 0.3186 - val_accuracy: 0.9574\n",
      "Epoch 2/10\n",
      "1875/1875 [==============================] - 3s 1ms/step - loss: 0.2982 - accuracy: 0.9574 - val_loss: 0.2748 - val_accuracy: 0.9575\n",
      "Epoch 3/10\n",
      "1875/1875 [==============================] - 3s 1ms/step - loss: 0.2580 - accuracy: 0.9621 - val_loss: 0.2280 - val_accuracy: 0.9677\n",
      "Epoch 4/10\n",
      "1875/1875 [==============================] - 3s 1ms/step - loss: 0.2402 - accuracy: 0.9643 - val_loss: 0.2283 - val_accuracy: 0.9664\n",
      "Epoch 5/10\n",
      "1875/1875 [==============================] - 3s 1ms/step - loss: 0.2310 - accuracy: 0.9658 - val_loss: 0.2165 - val_accuracy: 0.9692\n",
      "Epoch 6/10\n",
      "1875/1875 [==============================] - 3s 1ms/step - loss: 0.2249 - accuracy: 0.9660 - val_loss: 0.2144 - val_accuracy: 0.9691\n",
      "Epoch 7/10\n",
      "1875/1875 [==============================] - 3s 1ms/step - loss: 0.2199 - accuracy: 0.9670 - val_loss: 0.2003 - val_accuracy: 0.9716\n",
      "Epoch 8/10\n",
      "1875/1875 [==============================] - 3s 1ms/step - loss: 0.2138 - accuracy: 0.9675 - val_loss: 0.1993 - val_accuracy: 0.9701\n",
      "Epoch 9/10\n",
      "1875/1875 [==============================] - 3s 1ms/step - loss: 0.2119 - accuracy: 0.9679 - val_loss: 0.1924 - val_accuracy: 0.9737\n",
      "Epoch 10/10\n",
      "1875/1875 [==============================] - 3s 2ms/step - loss: 0.2090 - accuracy: 0.9678 - val_loss: 0.2459 - val_accuracy: 0.9576\n"
     ]
    },
    {
     "data": {
      "text/plain": [
       "<tensorflow.python.keras.callbacks.History at 0x1c5171e3c48>"
      ]
     },
     "execution_count": 19,
     "metadata": {},
     "output_type": "execute_result"
    }
   ],
   "source": [
    "# Add Regularization / Dropout to reduce overfitting\n",
    "\n",
    "from tensorflow.keras.regularizers import L2\n",
    "\n",
    "opt_5 = Adam(learning_rate = 0.001)\n",
    "\n",
    "model_5 = Sequential([layers.Input((28,28)),\n",
    "                      layers.Lambda(lambda x:x/255),\n",
    "                      layers.Flatten(),\n",
    "                      layers.Dense(128,activation = 'relu',kernel_regularizer=L2(0.001)),\n",
    "                      layers.Dropout(0.05),\n",
    "                      layers.Dense(128,activation = 'relu', kernel_regularizer=L2(0.001)),\n",
    "                      layers.Dropout(0.05),\n",
    "                      layers.Dense(128, activation = 'relu', kernel_regularizer=L2(0.001)),\n",
    "                      layers.Dropout(0.05),\n",
    "                      layers.Dense(10,activation='softmax')\n",
    "                     ])\n",
    "\n",
    "model_5.compile(optimizer=opt_5, loss = 'sparse_categorical_crossentropy', metrics=['accuracy'])\n",
    "\n",
    "model_5.fit(X_train, y_train, validation_data=(X_test, y_test), epochs = 10)"
   ]
  },
  {
   "cell_type": "code",
   "execution_count": 20,
   "metadata": {},
   "outputs": [
    {
     "name": "stdout",
     "output_type": "stream",
     "text": [
      "Epoch 1/20\n",
      "1875/1875 [==============================] - 3s 2ms/step - loss: 0.2041 - accuracy: 0.9694 - val_loss: 0.2113 - val_accuracy: 0.9657\n",
      "Epoch 2/20\n",
      "1875/1875 [==============================] - 3s 1ms/step - loss: 0.2032 - accuracy: 0.9693 - val_loss: 0.1991 - val_accuracy: 0.9713\n",
      "Epoch 3/20\n",
      "1875/1875 [==============================] - 3s 1ms/step - loss: 0.2046 - accuracy: 0.9683 - val_loss: 0.2054 - val_accuracy: 0.9670\n",
      "Epoch 4/20\n",
      "1875/1875 [==============================] - 3s 2ms/step - loss: 0.2016 - accuracy: 0.9692 - val_loss: 0.1861 - val_accuracy: 0.9752\n",
      "Epoch 5/20\n",
      "1875/1875 [==============================] - 4s 2ms/step - loss: 0.1989 - accuracy: 0.9697 - val_loss: 0.1934 - val_accuracy: 0.9730\n",
      "Epoch 6/20\n",
      "1875/1875 [==============================] - 4s 2ms/step - loss: 0.1970 - accuracy: 0.9692 - val_loss: 0.1950 - val_accuracy: 0.9708\n",
      "Epoch 7/20\n",
      "1875/1875 [==============================] - 3s 2ms/step - loss: 0.1972 - accuracy: 0.9692 - val_loss: 0.1856 - val_accuracy: 0.9738\n",
      "Epoch 8/20\n",
      "1875/1875 [==============================] - 3s 2ms/step - loss: 0.1955 - accuracy: 0.9707 - val_loss: 0.1944 - val_accuracy: 0.9707\n",
      "Epoch 9/20\n",
      "1875/1875 [==============================] - 3s 1ms/step - loss: 0.1968 - accuracy: 0.9696 - val_loss: 0.1960 - val_accuracy: 0.9710\n",
      "Epoch 10/20\n",
      "1875/1875 [==============================] - 3s 1ms/step - loss: 0.1971 - accuracy: 0.9690 - val_loss: 0.1890 - val_accuracy: 0.9734\n",
      "Epoch 11/20\n",
      "1875/1875 [==============================] - 3s 2ms/step - loss: 0.1932 - accuracy: 0.9708 - val_loss: 0.1888 - val_accuracy: 0.9748\n",
      "Epoch 12/20\n",
      "1875/1875 [==============================] - 3s 1ms/step - loss: 0.1959 - accuracy: 0.9699 - val_loss: 0.1959 - val_accuracy: 0.9696\n",
      "Epoch 13/20\n",
      "1875/1875 [==============================] - 3s 1ms/step - loss: 0.1929 - accuracy: 0.9705 - val_loss: 0.1860 - val_accuracy: 0.9722\n",
      "Epoch 14/20\n",
      "1875/1875 [==============================] - 3s 1ms/step - loss: 0.1952 - accuracy: 0.9683 - val_loss: 0.1916 - val_accuracy: 0.9699\n",
      "Epoch 15/20\n",
      "1875/1875 [==============================] - 3s 2ms/step - loss: 0.1936 - accuracy: 0.9698 - val_loss: 0.1764 - val_accuracy: 0.9736\n",
      "Epoch 16/20\n",
      "1875/1875 [==============================] - 3s 1ms/step - loss: 0.1927 - accuracy: 0.9702 - val_loss: 0.1845 - val_accuracy: 0.9721\n",
      "Epoch 17/20\n",
      "1875/1875 [==============================] - 3s 2ms/step - loss: 0.1927 - accuracy: 0.9690 - val_loss: 0.1861 - val_accuracy: 0.9722\n",
      "Epoch 18/20\n",
      "1875/1875 [==============================] - 3s 1ms/step - loss: 0.1903 - accuracy: 0.9701 - val_loss: 0.1788 - val_accuracy: 0.9738\n",
      "Epoch 19/20\n",
      "1875/1875 [==============================] - 3s 1ms/step - loss: 0.1915 - accuracy: 0.9701 - val_loss: 0.1897 - val_accuracy: 0.9710\n",
      "Epoch 20/20\n",
      "1875/1875 [==============================] - 3s 2ms/step - loss: 0.1924 - accuracy: 0.9696 - val_loss: 0.1799 - val_accuracy: 0.9730\n"
     ]
    },
    {
     "data": {
      "text/plain": [
       "<tensorflow.python.keras.callbacks.History at 0x1c514de4508>"
      ]
     },
     "execution_count": 20,
     "metadata": {},
     "output_type": "execute_result"
    }
   ],
   "source": [
    "# Increase number of epochs\n",
    "\n",
    "model_5.fit(X_train, y_train, validation_data=(X_test, y_test), epochs = 20)"
   ]
  },
  {
   "cell_type": "code",
   "execution_count": null,
   "metadata": {},
   "outputs": [],
   "source": []
  }
 ],
 "metadata": {
  "kernelspec": {
   "display_name": "Python 3",
   "language": "python",
   "name": "python3"
  },
  "language_info": {
   "codemirror_mode": {
    "name": "ipython",
    "version": 3
   },
   "file_extension": ".py",
   "mimetype": "text/x-python",
   "name": "python",
   "nbconvert_exporter": "python",
   "pygments_lexer": "ipython3",
   "version": "3.7.4"
  }
 },
 "nbformat": 4,
 "nbformat_minor": 2
}
